{
  "nbformat": 4,
  "nbformat_minor": 0,
  "metadata": {
    "colab": {
      "name": "Classificação RNA x RF.ipynb",
      "provenance": [],
      "collapsed_sections": [],
      "toc_visible": true,
      "authorship_tag": "ABX9TyMXtKioWaSU6iRS2PyibAb/",
      "include_colab_link": true
    },
    "kernelspec": {
      "name": "python3",
      "display_name": "Python 3"
    },
    "accelerator": "TPU"
  },
  "cells": [
    {
      "cell_type": "markdown",
      "metadata": {
        "id": "view-in-github",
        "colab_type": "text"
      },
      "source": [
        "<a href=\"https://colab.research.google.com/github/Rsimetti/cursoAP2020/blob/master/Semana03_RNA_x_RF.ipynb\" target=\"_parent\"><img src=\"https://colab.research.google.com/assets/colab-badge.svg\" alt=\"Open In Colab\"/></a>"
      ]
    },
    {
      "cell_type": "markdown",
      "metadata": {
        "id": "gL_NE-aRLxPq",
        "colab_type": "text"
      },
      "source": [
        "# Atividade da Semana 3 - Redes Neurais Artificiais \n",
        "\n",
        "Essa atividade consiste em:\n",
        "*   Criar um notebook no Google Colab;\n",
        "*   Realizar a leitura dos dados com pandas;\n",
        "*   Realizar a limpeza e organização dos dados para modelagem;\n",
        "*   Realizar o treinamento de uma Rede Neural e o teste;\n",
        "*   Realizar a análise e interpretação dos resultados obtidos;\n",
        "*   Incluir as análises no notebook."
      ]
    },
    {
      "cell_type": "markdown",
      "metadata": {
        "id": "vFlRX_En_tiU",
        "colab_type": "text"
      },
      "source": [
        "##1. Carregamento das bibliotecas utilizadas"
      ]
    },
    {
      "cell_type": "code",
      "metadata": {
        "id": "ILPJWJvAtnKM",
        "colab_type": "code",
        "colab": {
          "base_uri": "https://localhost:8080/",
          "height": 122
        },
        "outputId": "b5025356-68d2-40a3-996a-3b457386b843"
      },
      "source": [
        "# Montando o diretório do Google Drive\n",
        "from google.colab import drive\n",
        "drive.mount('/content/drive/')"
      ],
      "execution_count": 1,
      "outputs": [
        {
          "output_type": "stream",
          "text": [
            "Go to this URL in a browser: https://accounts.google.com/o/oauth2/auth?client_id=947318989803-6bn6qk8qdgf4n4g3pfee6491hc0brc4i.apps.googleusercontent.com&redirect_uri=urn%3aietf%3awg%3aoauth%3a2.0%3aoob&scope=email%20https%3a%2f%2fwww.googleapis.com%2fauth%2fdocs.test%20https%3a%2f%2fwww.googleapis.com%2fauth%2fdrive%20https%3a%2f%2fwww.googleapis.com%2fauth%2fdrive.photos.readonly%20https%3a%2f%2fwww.googleapis.com%2fauth%2fpeopleapi.readonly&response_type=code\n",
            "\n",
            "Enter your authorization code:\n",
            "··········\n",
            "Mounted at /content/drive/\n"
          ],
          "name": "stdout"
        }
      ]
    },
    {
      "cell_type": "code",
      "metadata": {
        "id": "IoS4vLgSvOCx",
        "colab_type": "code",
        "colab": {
          "base_uri": "https://localhost:8080/",
          "height": 51
        },
        "outputId": "656605c5-1e45-47b6-cbcc-37d9d41ae3cd"
      },
      "source": [
        "# Importando as bilbiotecas utilizadas\n",
        "import pandas as pd\n",
        "import matplotlib.pyplot as plt\n",
        "import seaborn as sns\n",
        "import numpy as np \n",
        "\n",
        "# Divisão dos dados para treino e teste\n",
        "from sklearn.model_selection import train_test_split \n",
        "from sklearn.model_selection import cross_val_score\n",
        "\n",
        "# Transformação dos dados\n",
        "from sklearn.preprocessing import MinMaxScaler\n",
        "\n",
        "# Métricas para os modelos\n",
        "from sklearn.metrics import accuracy_score\n",
        "from sklearn.metrics import precision_score\n",
        "from sklearn.metrics import recall_score\n",
        "from sklearn.metrics import f1_score\n",
        "from sklearn.metrics import classification_report\n",
        "from sklearn.metrics import confusion_matrix\n",
        "\n",
        "# Classificador de árvore de decisão (RF)\n",
        "from sklearn.ensemble import RandomForestClassifier\n",
        "\n",
        "# Classificador Redes Neurais (RN)\n",
        "from sklearn.neural_network import MLPClassifier\n",
        "\n",
        "# Otimização dos parâmetros\n",
        "from sklearn.model_selection import RandomizedSearchCV\n",
        "from sklearn.model_selection import GridSearchCV"
      ],
      "execution_count": 2,
      "outputs": [
        {
          "output_type": "stream",
          "text": [
            "/usr/local/lib/python3.6/dist-packages/statsmodels/tools/_testing.py:19: FutureWarning: pandas.util.testing is deprecated. Use the functions in the public API at pandas.testing instead.\n",
            "  import pandas.util.testing as tm\n"
          ],
          "name": "stderr"
        }
      ]
    },
    {
      "cell_type": "markdown",
      "metadata": {
        "id": "-GzIEnoAAEld",
        "colab_type": "text"
      },
      "source": [
        "## 2. Leitura dos dados"
      ]
    },
    {
      "cell_type": "markdown",
      "metadata": {
        "id": "Z7atXZle4MR0",
        "colab_type": "text"
      },
      "source": [
        "Os dados utilizados nesta sessão são os mesmos que foram análisados na [tarefa da semana anterior](https://github.com/Rsimetti/cursoAP2020/blob/master/Arvore_de_decisao_e_floresta_aleatoria.ipynb), portanto não será realizada novamente a análise exploratória ou a limpeza destes. Será realizada a leitura dos dados e iremos separar os dados em variáveis explicativas (X) e variável resposta."
      ]
    },
    {
      "cell_type": "code",
      "metadata": {
        "id": "oQ8QO9nqvUkz",
        "colab_type": "code",
        "colab": {}
      },
      "source": [
        "# Leitura dos dados\n",
        "da = pd.read_csv(\"/content/drive/My Drive/Colab Notebooks/dados/Contraceptive Method Choice.csv\")"
      ],
      "execution_count": 3,
      "outputs": []
    },
    {
      "cell_type": "code",
      "metadata": {
        "id": "o203ZhIT6Ou7",
        "colab_type": "code",
        "colab": {}
      },
      "source": [
        "# Separação em variáveis explicativas (X) e variável resposta (Y)\n",
        "X = da.iloc[:,:9]\n",
        "Y = da.ContraceptiveMethodUsed"
      ],
      "execution_count": 4,
      "outputs": []
    },
    {
      "cell_type": "markdown",
      "metadata": {
        "id": "yffBEIsiAXRC",
        "colab_type": "text"
      },
      "source": [
        "## 3. Treinamento dos modelos"
      ]
    },
    {
      "cell_type": "markdown",
      "metadata": {
        "id": "DrHxB0IdlDl1",
        "colab_type": "text"
      },
      "source": [
        "Para o treinamento das redes neurais utilizaremos inicialmente uma arquitetura que não demanda grande esforço computacional, posteriormente será excutado o *tuning* dos parâmetros. Utilizaremos modelos gerados via Random Forest (RF) para comparar as métricas dos modelos obtidos via Redes Neurais Artificiais (RNA). A escolha do RF é devido ao maior desempenho em relação as Árvores de Decisão da semana anterior. \n",
        "Nesta etapa os modelos gerados via RNA e RF serão comparados em diferente métodos de amostragem:\n",
        "*   Holdout - 80/20 \n",
        "*   Validação cruzada - k = 20"
      ]
    },
    {
      "cell_type": "code",
      "metadata": {
        "id": "HP7BKMMvvqCc",
        "colab_type": "code",
        "colab": {}
      },
      "source": [
        "# Criando o classificador para RNA\n",
        "classificador_rede = MLPClassifier(hidden_layer_sizes = (9,14),\n",
        "                                  max_iter = 10000,\n",
        "                                  learning_rate = \"constant\",\n",
        "                                  solver='sgd',\n",
        "                                  activation = \"tanh\", \n",
        "                                  verbose = False)"
      ],
      "execution_count": 5,
      "outputs": []
    },
    {
      "cell_type": "code",
      "metadata": {
        "id": "l7gOH0KInjXC",
        "colab_type": "code",
        "colab": {}
      },
      "source": [
        "# Criando o classificado para RF\n",
        "classificador_floresta = RandomForestClassifier(n_estimators=100)"
      ],
      "execution_count": 6,
      "outputs": []
    },
    {
      "cell_type": "markdown",
      "metadata": {
        "id": "rrcZZUgbCxrP",
        "colab_type": "text"
      },
      "source": [
        "###  Utilizando holdout"
      ]
    },
    {
      "cell_type": "markdown",
      "metadata": {
        "id": "a2bq8pdMlBis",
        "colab_type": "text"
      },
      "source": [
        "Para o método holdout utilizaremos 80% dos dados para treinamento e 20% para teste dos modelos gerados via RNA e e RF. Além disso iremos transformar as variáveis explicativas utilizando a normalização, onde\n",
        "\n",
        "$ x^t = \\frac{(x-mínimo)}{(máximo-mínimo)} $\n"
      ]
    },
    {
      "cell_type": "code",
      "metadata": {
        "id": "OQg3nbLcES4q",
        "colab_type": "code",
        "colab": {}
      },
      "source": [
        "# Criação dos lotes de treino e teste \n",
        "X_train, X_test, Y_train, Y_test = train_test_split(X,Y, test_size=0.2)"
      ],
      "execution_count": 7,
      "outputs": []
    },
    {
      "cell_type": "code",
      "metadata": {
        "id": "My5FAGqHE-vH",
        "colab_type": "code",
        "colab": {}
      },
      "source": [
        "# Criando o transformador e fazendo a transformação dos dados de treino e teste\n",
        "scaler = MinMaxScaler(feature_range = (0, 1))\n",
        "scaler.fit(X_train)\n",
        "X_train = scaler.transform(X_train)\n",
        "X_test = scaler.transform(X_test)"
      ],
      "execution_count": 8,
      "outputs": []
    },
    {
      "cell_type": "markdown",
      "metadata": {
        "id": "Wtkc0tEiHSQ0",
        "colab_type": "text"
      },
      "source": [
        "Para comparação entre os modelos de RNA e RF utilizaremos a matriz de confusão e as métricas geradas com os dados de teste."
      ]
    },
    {
      "cell_type": "code",
      "metadata": {
        "id": "EjfOhMfswujn",
        "colab_type": "code",
        "colab": {}
      },
      "source": [
        "# Treinando a rede \n",
        "classificador_rede.fit(X_train, Y_train)\n",
        "\n",
        "# Fazendo a predição no lote de teste\n",
        "predictions_rn = classificador_rede.predict(X_test)"
      ],
      "execution_count": 9,
      "outputs": []
    },
    {
      "cell_type": "code",
      "metadata": {
        "id": "aPYbQx1kh1oK",
        "colab_type": "code",
        "colab": {
          "base_uri": "https://localhost:8080/",
          "height": 272
        },
        "outputId": "754062f9-63f3-4a23-c7e0-0a4cf78b1e36"
      },
      "source": [
        "# Obtendo a matriz de confusão e as métricas do modelo para os dados de teste\n",
        "print(\"====================  Matriz de confusão resultante da rede neural ==================== \")\n",
        "print(confusion_matrix(Y_test,predictions_rn))\n",
        "print(\"====================  Métricas da rede neural ==================== \")\n",
        "print(classification_report(Y_test,predictions_rn))"
      ],
      "execution_count": 10,
      "outputs": [
        {
          "output_type": "stream",
          "text": [
            "====================  Matriz de confusão resultante da rede neural ==================== \n",
            "[[92 18 29]\n",
            " [17 19 28]\n",
            " [35 17 40]]\n",
            "====================  Métricas da rede neural ==================== \n",
            "              precision    recall  f1-score   support\n",
            "\n",
            "           1       0.64      0.66      0.65       139\n",
            "           2       0.35      0.30      0.32        64\n",
            "           3       0.41      0.43      0.42        92\n",
            "\n",
            "    accuracy                           0.51       295\n",
            "   macro avg       0.47      0.46      0.47       295\n",
            "weighted avg       0.51      0.51      0.51       295\n",
            "\n"
          ],
          "name": "stdout"
        }
      ]
    },
    {
      "cell_type": "code",
      "metadata": {
        "id": "QEclQYvTGDBD",
        "colab_type": "code",
        "colab": {}
      },
      "source": [
        "# Treinamento da floresta\n",
        "classificador_floresta.fit(X_train,Y_train)\n",
        "\n",
        "# Fazendo a predição no lote de teste\n",
        "predictions_rf = classificador_floresta.predict(X_test)"
      ],
      "execution_count": 11,
      "outputs": []
    },
    {
      "cell_type": "code",
      "metadata": {
        "id": "k00TIXJsFZSs",
        "colab_type": "code",
        "colab": {
          "base_uri": "https://localhost:8080/",
          "height": 272
        },
        "outputId": "f37bbced-01bd-461d-9cfc-2da17f633645"
      },
      "source": [
        "# Obtendo a matriz de confusão e as métricas do modelo para os dados de teste\n",
        "print(\"====================  Matriz de confusão resultante da floresta aleatória ==================== \")\n",
        "print(confusion_matrix(Y_test,predictions_rf))\n",
        "print(\"====================  Métricas da floresta aleatória ==================== \")\n",
        "print(classification_report(Y_test,predictions_rf))"
      ],
      "execution_count": 12,
      "outputs": [
        {
          "output_type": "stream",
          "text": [
            "====================  Matriz de confusão resultante da floresta aleatória ==================== \n",
            "[[95  9 35]\n",
            " [23 21 20]\n",
            " [27 24 41]]\n",
            "====================  Métricas da floresta aleatória ==================== \n",
            "              precision    recall  f1-score   support\n",
            "\n",
            "           1       0.66      0.68      0.67       139\n",
            "           2       0.39      0.33      0.36        64\n",
            "           3       0.43      0.45      0.44        92\n",
            "\n",
            "    accuracy                           0.53       295\n",
            "   macro avg       0.49      0.49      0.49       295\n",
            "weighted avg       0.53      0.53      0.53       295\n",
            "\n"
          ],
          "name": "stdout"
        }
      ]
    },
    {
      "cell_type": "markdown",
      "metadata": {
        "id": "QE-y6f3nHsHm",
        "colab_type": "text"
      },
      "source": [
        "Quando utilizado o método de amostragem *holdout* foi possível observar que:\n",
        "\n",
        "*   RNA e RF apresentaram valores de acurácia relativamente baixos, sendo de 0,51 e 0,53; para RNA e RF, respectivamente. \n",
        "*   Aparentemente existe um efeito do números de observações das classes na precissão dos modelos, tanto RNA quanto RF apresentaram maiores valores para as classes com maior número de observações e foram reduzindo com a redução do número do observações. \n",
        "*   Somente a classe 1 apresentou maior número de classificações corretas do que classificações incorretas.\n",
        "\n"
      ]
    },
    {
      "cell_type": "markdown",
      "metadata": {
        "id": "3EhkL4EXj30Y",
        "colab_type": "text"
      },
      "source": [
        "### Utilizando validação cruzada"
      ]
    },
    {
      "cell_type": "markdown",
      "metadata": {
        "id": "pmD0YMiyQdBh",
        "colab_type": "text"
      },
      "source": [
        "Na validação cruzada utilizaremos como métrica para avaliação dos modelos a acurácia. Destaca-se que utilizaremos o lote de treino previamente utilizado no método holdout para que seja mantido o mesmo número de observações."
      ]
    },
    {
      "cell_type": "code",
      "metadata": {
        "id": "iEN4jZ26O-eS",
        "colab_type": "code",
        "colab": {}
      },
      "source": [
        "# Treinando a rede \n",
        "scores_rn = cross_val_score(classificador_rede,\n",
        "                            X_train,\n",
        "                            Y_train,\n",
        "                            cv = 20)"
      ],
      "execution_count": 13,
      "outputs": []
    },
    {
      "cell_type": "code",
      "metadata": {
        "id": "NXXHrlKAM8Mm",
        "colab_type": "code",
        "colab": {}
      },
      "source": [
        "# Treinando a floresta\n",
        "scores_rf = cross_val_score(classificador_floresta,\n",
        "                            X_train,\n",
        "                            Y_train,\n",
        "                            cv = 20)"
      ],
      "execution_count": 14,
      "outputs": []
    },
    {
      "cell_type": "code",
      "metadata": {
        "id": "MnMUqpuZMtVU",
        "colab_type": "code",
        "colab": {
          "base_uri": "https://localhost:8080/",
          "height": 354
        },
        "outputId": "e301a697-817a-4bdc-d3e0-f264f8d7c8db"
      },
      "source": [
        "# Plotar o gráfico dos resultados de acurácia\n",
        "plt.rcParams[\"figure.figsize\"] = (10,5)\n",
        "plt.boxplot([scores_rn, scores_rf], \n",
        "            labels = [\"RNA\", \"RF\"])\n",
        "plt.ylabel(\"Acurácia\")\n",
        "plt.show()\n",
        "# Escrever as estatísticas descritivas das métricas\n",
        "print(\"Para RNA - Média =\", round(scores_rn.mean(),3), \"Desvio =\",round(scores_rn.std(),3))\n",
        "print(\"Para RF - Média =\", round(scores_rf.mean(),3), \"Desvio =\",round(scores_rf.std(),3))"
      ],
      "execution_count": 15,
      "outputs": [
        {
          "output_type": "display_data",
          "data": {
            "image/png": "[encoded data removed]",
            "text/plain": [
              "<Figure size 720x360 with 1 Axes>"
            ]
          },
          "metadata": {
            "tags": [],
            "needs_background": "light"
          }
        },
        {
          "output_type": "stream",
          "text": [
            "Para RNA - Média = 0.472 Desvio = 0.053\n",
            "Para RF - Média = 0.52 Desvio = 0.051\n"
          ],
          "name": "stdout"
        }
      ]
    },
    {
      "cell_type": "markdown",
      "metadata": {
        "id": "okUl_ELPRhN1",
        "colab_type": "text"
      },
      "source": [
        "Para o método de amostragem de validação cruzada com k = 20 podemos observar que:\n",
        "* O desemprenho médio para RF foi superior ao desempenho médio para RNA.\n",
        "* Em algumas situações a RNA pode apresentar melhor desempenho que RF, portanto o uso de validação cruzada é importante para que não ocorram interpretações equivocadas. \n",
        "\n",
        "\n"
      ]
    },
    {
      "cell_type": "markdown",
      "metadata": {
        "id": "rZs618DFRNXb",
        "colab_type": "text"
      },
      "source": [
        "## Otimização dos parâmetros para RNA"
      ]
    },
    {
      "cell_type": "markdown",
      "metadata": {
        "id": "8IzL_9JoZJkK",
        "colab_type": "text"
      },
      "source": [
        "Na otimização dos parâmetros serão utilizados os métodos RandomSearch e GridSearch. Assim como anteriormente, utilizaremos apenas 80% dos dados (Lotes X_train e Y_train) para que os modellos sejam gerados com o mesmo número de observações que os anteriores."
      ]
    },
    {
      "cell_type": "code",
      "metadata": {
        "id": "Q3fuq-mdTg9Q",
        "colab_type": "code",
        "colab": {}
      },
      "source": [
        "# Definindo os parâmetros para seleção\n",
        "param_grid = [\n",
        "              {\n",
        "                  'hidden_layer_sizes': [(10),\n",
        "                                         (15),\n",
        "                                         (20),\n",
        "                                         (10,20),\n",
        "                                         (20,40)],\n",
        "                  'activation': ['identity',\n",
        "                                 'tanh', \n",
        "                                 'relu'],\n",
        "                  'solver': ['sgd', \n",
        "                             'adam'],\n",
        "                  'max_iter': [1000,\n",
        "                               2000]\n",
        "              }\n",
        "]"
      ],
      "execution_count": 16,
      "outputs": []
    },
    {
      "cell_type": "code",
      "metadata": {
        "id": "bpWQzg2lUJ8f",
        "colab_type": "code",
        "colab": {}
      },
      "source": [
        "# Criando a RNA para otimização com Random Search\n",
        "rna1 = RandomizedSearchCV(MLPClassifier(),\n",
        "                         param_grid,\n",
        "                         cv = 20,\n",
        "                         scoring = 'accuracy')"
      ],
      "execution_count": 17,
      "outputs": []
    },
    {
      "cell_type": "code",
      "metadata": {
        "id": "fdm4ee8UUWJe",
        "colab_type": "code",
        "colab": {
          "base_uri": "https://localhost:8080/",
          "height": 717
        },
        "outputId": "45a0d1a0-d6f8-4fa3-ab70-df5f25f5bee4"
      },
      "source": [
        "#Realizando o treino\n",
        "rna1.fit(X_train,Y_train)"
      ],
      "execution_count": 18,
      "outputs": [
        {
          "output_type": "stream",
          "text": [
            "/usr/local/lib/python3.6/dist-packages/sklearn/neural_network/_multilayer_perceptron.py:571: ConvergenceWarning: Stochastic Optimizer: Maximum iterations (1000) reached and the optimization hasn't converged yet.\n",
            "  % self.max_iter, ConvergenceWarning)\n",
            "/usr/local/lib/python3.6/dist-packages/sklearn/neural_network/_multilayer_perceptron.py:571: ConvergenceWarning: Stochastic Optimizer: Maximum iterations (1000) reached and the optimization hasn't converged yet.\n",
            "  % self.max_iter, ConvergenceWarning)\n",
            "/usr/local/lib/python3.6/dist-packages/sklearn/neural_network/_multilayer_perceptron.py:571: ConvergenceWarning: Stochastic Optimizer: Maximum iterations (1000) reached and the optimization hasn't converged yet.\n",
            "  % self.max_iter, ConvergenceWarning)\n",
            "/usr/local/lib/python3.6/dist-packages/sklearn/neural_network/_multilayer_perceptron.py:571: ConvergenceWarning: Stochastic Optimizer: Maximum iterations (1000) reached and the optimization hasn't converged yet.\n",
            "  % self.max_iter, ConvergenceWarning)\n",
            "/usr/local/lib/python3.6/dist-packages/sklearn/neural_network/_multilayer_perceptron.py:571: ConvergenceWarning: Stochastic Optimizer: Maximum iterations (1000) reached and the optimization hasn't converged yet.\n",
            "  % self.max_iter, ConvergenceWarning)\n",
            "/usr/local/lib/python3.6/dist-packages/sklearn/neural_network/_multilayer_perceptron.py:571: ConvergenceWarning: Stochastic Optimizer: Maximum iterations (1000) reached and the optimization hasn't converged yet.\n",
            "  % self.max_iter, ConvergenceWarning)\n",
            "/usr/local/lib/python3.6/dist-packages/sklearn/neural_network/_multilayer_perceptron.py:571: ConvergenceWarning: Stochastic Optimizer: Maximum iterations (1000) reached and the optimization hasn't converged yet.\n",
            "  % self.max_iter, ConvergenceWarning)\n",
            "/usr/local/lib/python3.6/dist-packages/sklearn/neural_network/_multilayer_perceptron.py:571: ConvergenceWarning: Stochastic Optimizer: Maximum iterations (1000) reached and the optimization hasn't converged yet.\n",
            "  % self.max_iter, ConvergenceWarning)\n"
          ],
          "name": "stderr"
        },
        {
          "output_type": "execute_result",
          "data": {
            "text/plain": [
              "RandomizedSearchCV(cv=20, error_score=nan,\n",
              "                   estimator=MLPClassifier(activation='relu', alpha=0.0001,\n",
              "                                           batch_size='auto', beta_1=0.9,\n",
              "                                           beta_2=0.999, early_stopping=False,\n",
              "                                           epsilon=1e-08,\n",
              "                                           hidden_layer_sizes=(100,),\n",
              "                                           learning_rate='constant',\n",
              "                                           learning_rate_init=0.001,\n",
              "                                           max_fun=15000, max_iter=200,\n",
              "                                           momentum=0.9, n_iter_no_change=10,\n",
              "                                           nesterovs_momentum=True, power_t=0.5,\n",
              "                                           rando...\n",
              "                                           validation_fraction=0.1,\n",
              "                                           verbose=False, warm_start=False),\n",
              "                   iid='deprecated', n_iter=10, n_jobs=None,\n",
              "                   param_distributions=[{'activation': ['identity', 'tanh',\n",
              "                                                        'relu'],\n",
              "                                         'hidden_layer_sizes': [10, 15, 20,\n",
              "                                                                (10, 20),\n",
              "                                                                (20, 40)],\n",
              "                                         'max_iter': [1000, 2000],\n",
              "                                         'solver': ['sgd', 'adam']}],\n",
              "                   pre_dispatch='2*n_jobs', random_state=None, refit=True,\n",
              "                   return_train_score=False, scoring='accuracy', verbose=0)"
            ]
          },
          "metadata": {
            "tags": []
          },
          "execution_count": 18
        }
      ]
    },
    {
      "cell_type": "code",
      "metadata": {
        "id": "7MLBKxTRV4KL",
        "colab_type": "code",
        "colab": {
          "base_uri": "https://localhost:8080/",
          "height": 51
        },
        "outputId": "1692c541-f329-489f-cf45-afef8f2adbef"
      },
      "source": [
        "# Resutlados para Random Search\n",
        "print(rna1.best_params_)\n",
        "print(round(rna1.best_score_,7))"
      ],
      "execution_count": 25,
      "outputs": [
        {
          "output_type": "stream",
          "text": [
            "{'solver': 'adam', 'max_iter': 1000, 'hidden_layer_sizes': (10, 20), 'activation': 'tanh'}\n",
            "0.5612361\n"
          ],
          "name": "stdout"
        }
      ]
    },
    {
      "cell_type": "code",
      "metadata": {
        "id": "xjitY7y4WM0f",
        "colab_type": "code",
        "colab": {}
      },
      "source": [
        "# Criando a RNA para otimização com Grid Search\n",
        "rna2 = GridSearchCV(MLPClassifier(),\n",
        "                   param_grid,\n",
        "                   cv = 20,\n",
        "                   scoring='accuracy')"
      ],
      "execution_count": 20,
      "outputs": []
    },
    {
      "cell_type": "code",
      "metadata": {
        "id": "D8GHoZ0iWu0K",
        "colab_type": "code",
        "colab": {
          "base_uri": "https://localhost:8080/",
          "height": 1000
        },
        "outputId": "c0d89a38-4b11-4e3f-831b-13436051f663"
      },
      "source": [
        "rna2.fit(X_train,Y_train)"
      ],
      "execution_count": 21,
      "outputs": [
        {
          "output_type": "stream",
          "text": [
            "/usr/local/lib/python3.6/dist-packages/sklearn/neural_network/_multilayer_perceptron.py:571: ConvergenceWarning: Stochastic Optimizer: Maximum iterations (1000) reached and the optimization hasn't converged yet.\n",
            "  % self.max_iter, ConvergenceWarning)\n",
            "/usr/local/lib/python3.6/dist-packages/sklearn/neural_network/_multilayer_perceptron.py:571: ConvergenceWarning: Stochastic Optimizer: Maximum iterations (1000) reached and the optimization hasn't converged yet.\n",
            "  % self.max_iter, ConvergenceWarning)\n",
            "/usr/local/lib/python3.6/dist-packages/sklearn/neural_network/_multilayer_perceptron.py:571: ConvergenceWarning: Stochastic Optimizer: Maximum iterations (1000) reached and the optimization hasn't converged yet.\n",
            "  % self.max_iter, ConvergenceWarning)\n",
            "/usr/local/lib/python3.6/dist-packages/sklearn/neural_network/_multilayer_perceptron.py:571: ConvergenceWarning: Stochastic Optimizer: Maximum iterations (1000) reached and the optimization hasn't converged yet.\n",
            "  % self.max_iter, ConvergenceWarning)\n",
            "/usr/local/lib/python3.6/dist-packages/sklearn/neural_network/_multilayer_perceptron.py:571: ConvergenceWarning: Stochastic Optimizer: Maximum iterations (1000) reached and the optimization hasn't converged yet.\n",
            "  % self.max_iter, ConvergenceWarning)\n",
            "/usr/local/lib/python3.6/dist-packages/sklearn/neural_network/_multilayer_perceptron.py:571: ConvergenceWarning: Stochastic Optimizer: Maximum iterations (1000) reached and the optimization hasn't converged yet.\n",
            "  % self.max_iter, ConvergenceWarning)\n",
            "/usr/local/lib/python3.6/dist-packages/sklearn/neural_network/_multilayer_perceptron.py:571: ConvergenceWarning: Stochastic Optimizer: Maximum iterations (1000) reached and the optimization hasn't converged yet.\n",
            "  % self.max_iter, ConvergenceWarning)\n",
            "/usr/local/lib/python3.6/dist-packages/sklearn/neural_network/_multilayer_perceptron.py:571: ConvergenceWarning: Stochastic Optimizer: Maximum iterations (1000) reached and the optimization hasn't converged yet.\n",
            "  % self.max_iter, ConvergenceWarning)\n",
            "/usr/local/lib/python3.6/dist-packages/sklearn/neural_network/_multilayer_perceptron.py:571: ConvergenceWarning: Stochastic Optimizer: Maximum iterations (1000) reached and the optimization hasn't converged yet.\n",
            "  % self.max_iter, ConvergenceWarning)\n",
            "/usr/local/lib/python3.6/dist-packages/sklearn/neural_network/_multilayer_perceptron.py:571: ConvergenceWarning: Stochastic Optimizer: Maximum iterations (1000) reached and the optimization hasn't converged yet.\n",
            "  % self.max_iter, ConvergenceWarning)\n",
            "/usr/local/lib/python3.6/dist-packages/sklearn/neural_network/_multilayer_perceptron.py:571: ConvergenceWarning: Stochastic Optimizer: Maximum iterations (1000) reached and the optimization hasn't converged yet.\n",
            "  % self.max_iter, ConvergenceWarning)\n",
            "/usr/local/lib/python3.6/dist-packages/sklearn/neural_network/_multilayer_perceptron.py:571: ConvergenceWarning: Stochastic Optimizer: Maximum iterations (1000) reached and the optimization hasn't converged yet.\n",
            "  % self.max_iter, ConvergenceWarning)\n",
            "/usr/local/lib/python3.6/dist-packages/sklearn/neural_network/_multilayer_perceptron.py:571: ConvergenceWarning: Stochastic Optimizer: Maximum iterations (1000) reached and the optimization hasn't converged yet.\n",
            "  % self.max_iter, ConvergenceWarning)\n",
            "/usr/local/lib/python3.6/dist-packages/sklearn/neural_network/_multilayer_perceptron.py:571: ConvergenceWarning: Stochastic Optimizer: Maximum iterations (1000) reached and the optimization hasn't converged yet.\n",
            "  % self.max_iter, ConvergenceWarning)\n",
            "/usr/local/lib/python3.6/dist-packages/sklearn/neural_network/_multilayer_perceptron.py:571: ConvergenceWarning: Stochastic Optimizer: Maximum iterations (1000) reached and the optimization hasn't converged yet.\n",
            "  % self.max_iter, ConvergenceWarning)\n",
            "/usr/local/lib/python3.6/dist-packages/sklearn/neural_network/_multilayer_perceptron.py:571: ConvergenceWarning: Stochastic Optimizer: Maximum iterations (2000) reached and the optimization hasn't converged yet.\n",
            "  % self.max_iter, ConvergenceWarning)\n",
            "/usr/local/lib/python3.6/dist-packages/sklearn/neural_network/_multilayer_perceptron.py:571: ConvergenceWarning: Stochastic Optimizer: Maximum iterations (1000) reached and the optimization hasn't converged yet.\n",
            "  % self.max_iter, ConvergenceWarning)\n",
            "/usr/local/lib/python3.6/dist-packages/sklearn/neural_network/_multilayer_perceptron.py:571: ConvergenceWarning: Stochastic Optimizer: Maximum iterations (1000) reached and the optimization hasn't converged yet.\n",
            "  % self.max_iter, ConvergenceWarning)\n",
            "/usr/local/lib/python3.6/dist-packages/sklearn/neural_network/_multilayer_perceptron.py:571: ConvergenceWarning: Stochastic Optimizer: Maximum iterations (1000) reached and the optimization hasn't converged yet.\n",
            "  % self.max_iter, ConvergenceWarning)\n",
            "/usr/local/lib/python3.6/dist-packages/sklearn/neural_network/_multilayer_perceptron.py:571: ConvergenceWarning: Stochastic Optimizer: Maximum iterations (1000) reached and the optimization hasn't converged yet.\n",
            "  % self.max_iter, ConvergenceWarning)\n",
            "/usr/local/lib/python3.6/dist-packages/sklearn/neural_network/_multilayer_perceptron.py:571: ConvergenceWarning: Stochastic Optimizer: Maximum iterations (1000) reached and the optimization hasn't converged yet.\n",
            "  % self.max_iter, ConvergenceWarning)\n",
            "/usr/local/lib/python3.6/dist-packages/sklearn/neural_network/_multilayer_perceptron.py:571: ConvergenceWarning: Stochastic Optimizer: Maximum iterations (1000) reached and the optimization hasn't converged yet.\n",
            "  % self.max_iter, ConvergenceWarning)\n",
            "/usr/local/lib/python3.6/dist-packages/sklearn/neural_network/_multilayer_perceptron.py:571: ConvergenceWarning: Stochastic Optimizer: Maximum iterations (1000) reached and the optimization hasn't converged yet.\n",
            "  % self.max_iter, ConvergenceWarning)\n",
            "/usr/local/lib/python3.6/dist-packages/sklearn/neural_network/_multilayer_perceptron.py:571: ConvergenceWarning: Stochastic Optimizer: Maximum iterations (1000) reached and the optimization hasn't converged yet.\n",
            "  % self.max_iter, ConvergenceWarning)\n",
            "/usr/local/lib/python3.6/dist-packages/sklearn/neural_network/_multilayer_perceptron.py:571: ConvergenceWarning: Stochastic Optimizer: Maximum iterations (1000) reached and the optimization hasn't converged yet.\n",
            "  % self.max_iter, ConvergenceWarning)\n",
            "/usr/local/lib/python3.6/dist-packages/sklearn/neural_network/_multilayer_perceptron.py:571: ConvergenceWarning: Stochastic Optimizer: Maximum iterations (1000) reached and the optimization hasn't converged yet.\n",
            "  % self.max_iter, ConvergenceWarning)\n",
            "/usr/local/lib/python3.6/dist-packages/sklearn/neural_network/_multilayer_perceptron.py:571: ConvergenceWarning: Stochastic Optimizer: Maximum iterations (1000) reached and the optimization hasn't converged yet.\n",
            "  % self.max_iter, ConvergenceWarning)\n",
            "/usr/local/lib/python3.6/dist-packages/sklearn/neural_network/_multilayer_perceptron.py:571: ConvergenceWarning: Stochastic Optimizer: Maximum iterations (1000) reached and the optimization hasn't converged yet.\n",
            "  % self.max_iter, ConvergenceWarning)\n",
            "/usr/local/lib/python3.6/dist-packages/sklearn/neural_network/_multilayer_perceptron.py:571: ConvergenceWarning: Stochastic Optimizer: Maximum iterations (1000) reached and the optimization hasn't converged yet.\n",
            "  % self.max_iter, ConvergenceWarning)\n",
            "/usr/local/lib/python3.6/dist-packages/sklearn/neural_network/_multilayer_perceptron.py:571: ConvergenceWarning: Stochastic Optimizer: Maximum iterations (1000) reached and the optimization hasn't converged yet.\n",
            "  % self.max_iter, ConvergenceWarning)\n",
            "/usr/local/lib/python3.6/dist-packages/sklearn/neural_network/_multilayer_perceptron.py:571: ConvergenceWarning: Stochastic Optimizer: Maximum iterations (1000) reached and the optimization hasn't converged yet.\n",
            "  % self.max_iter, ConvergenceWarning)\n",
            "/usr/local/lib/python3.6/dist-packages/sklearn/neural_network/_multilayer_perceptron.py:571: ConvergenceWarning: Stochastic Optimizer: Maximum iterations (1000) reached and the optimization hasn't converged yet.\n",
            "  % self.max_iter, ConvergenceWarning)\n",
            "/usr/local/lib/python3.6/dist-packages/sklearn/neural_network/_multilayer_perceptron.py:571: ConvergenceWarning: Stochastic Optimizer: Maximum iterations (1000) reached and the optimization hasn't converged yet.\n",
            "  % self.max_iter, ConvergenceWarning)\n",
            "/usr/local/lib/python3.6/dist-packages/sklearn/neural_network/_multilayer_perceptron.py:571: ConvergenceWarning: Stochastic Optimizer: Maximum iterations (1000) reached and the optimization hasn't converged yet.\n",
            "  % self.max_iter, ConvergenceWarning)\n",
            "/usr/local/lib/python3.6/dist-packages/sklearn/neural_network/_multilayer_perceptron.py:571: ConvergenceWarning: Stochastic Optimizer: Maximum iterations (1000) reached and the optimization hasn't converged yet.\n",
            "  % self.max_iter, ConvergenceWarning)\n",
            "/usr/local/lib/python3.6/dist-packages/sklearn/neural_network/_multilayer_perceptron.py:571: ConvergenceWarning: Stochastic Optimizer: Maximum iterations (1000) reached and the optimization hasn't converged yet.\n",
            "  % self.max_iter, ConvergenceWarning)\n",
            "/usr/local/lib/python3.6/dist-packages/sklearn/neural_network/_multilayer_perceptron.py:571: ConvergenceWarning: Stochastic Optimizer: Maximum iterations (1000) reached and the optimization hasn't converged yet.\n",
            "  % self.max_iter, ConvergenceWarning)\n",
            "/usr/local/lib/python3.6/dist-packages/sklearn/neural_network/_multilayer_perceptron.py:571: ConvergenceWarning: Stochastic Optimizer: Maximum iterations (1000) reached and the optimization hasn't converged yet.\n",
            "  % self.max_iter, ConvergenceWarning)\n",
            "/usr/local/lib/python3.6/dist-packages/sklearn/neural_network/_multilayer_perceptron.py:571: ConvergenceWarning: Stochastic Optimizer: Maximum iterations (1000) reached and the optimization hasn't converged yet.\n",
            "  % self.max_iter, ConvergenceWarning)\n",
            "/usr/local/lib/python3.6/dist-packages/sklearn/neural_network/_multilayer_perceptron.py:571: ConvergenceWarning: Stochastic Optimizer: Maximum iterations (1000) reached and the optimization hasn't converged yet.\n",
            "  % self.max_iter, ConvergenceWarning)\n",
            "/usr/local/lib/python3.6/dist-packages/sklearn/neural_network/_multilayer_perceptron.py:571: ConvergenceWarning: Stochastic Optimizer: Maximum iterations (1000) reached and the optimization hasn't converged yet.\n",
            "  % self.max_iter, ConvergenceWarning)\n",
            "/usr/local/lib/python3.6/dist-packages/sklearn/neural_network/_multilayer_perceptron.py:571: ConvergenceWarning: Stochastic Optimizer: Maximum iterations (1000) reached and the optimization hasn't converged yet.\n",
            "  % self.max_iter, ConvergenceWarning)\n",
            "/usr/local/lib/python3.6/dist-packages/sklearn/neural_network/_multilayer_perceptron.py:571: ConvergenceWarning: Stochastic Optimizer: Maximum iterations (1000) reached and the optimization hasn't converged yet.\n",
            "  % self.max_iter, ConvergenceWarning)\n",
            "/usr/local/lib/python3.6/dist-packages/sklearn/neural_network/_multilayer_perceptron.py:571: ConvergenceWarning: Stochastic Optimizer: Maximum iterations (1000) reached and the optimization hasn't converged yet.\n",
            "  % self.max_iter, ConvergenceWarning)\n",
            "/usr/local/lib/python3.6/dist-packages/sklearn/neural_network/_multilayer_perceptron.py:571: ConvergenceWarning: Stochastic Optimizer: Maximum iterations (1000) reached and the optimization hasn't converged yet.\n",
            "  % self.max_iter, ConvergenceWarning)\n",
            "/usr/local/lib/python3.6/dist-packages/sklearn/neural_network/_multilayer_perceptron.py:571: ConvergenceWarning: Stochastic Optimizer: Maximum iterations (1000) reached and the optimization hasn't converged yet.\n",
            "  % self.max_iter, ConvergenceWarning)\n",
            "/usr/local/lib/python3.6/dist-packages/sklearn/neural_network/_multilayer_perceptron.py:571: ConvergenceWarning: Stochastic Optimizer: Maximum iterations (1000) reached and the optimization hasn't converged yet.\n",
            "  % self.max_iter, ConvergenceWarning)\n",
            "/usr/local/lib/python3.6/dist-packages/sklearn/neural_network/_multilayer_perceptron.py:571: ConvergenceWarning: Stochastic Optimizer: Maximum iterations (1000) reached and the optimization hasn't converged yet.\n",
            "  % self.max_iter, ConvergenceWarning)\n"
          ],
          "name": "stderr"
        },
        {
          "output_type": "execute_result",
          "data": {
            "text/plain": [
              "GridSearchCV(cv=20, error_score=nan,\n",
              "             estimator=MLPClassifier(activation='relu', alpha=0.0001,\n",
              "                                     batch_size='auto', beta_1=0.9,\n",
              "                                     beta_2=0.999, early_stopping=False,\n",
              "                                     epsilon=1e-08, hidden_layer_sizes=(100,),\n",
              "                                     learning_rate='constant',\n",
              "                                     learning_rate_init=0.001, max_fun=15000,\n",
              "                                     max_iter=200, momentum=0.9,\n",
              "                                     n_iter_no_change=10,\n",
              "                                     nesterovs_momentum=True, power_t=0.5,\n",
              "                                     random_stat...,\n",
              "                                     solver='adam', tol=0.0001,\n",
              "                                     validation_fraction=0.1, verbose=False,\n",
              "                                     warm_start=False),\n",
              "             iid='deprecated', n_jobs=None,\n",
              "             param_grid=[{'activation': ['identity', 'tanh', 'relu'],\n",
              "                          'hidden_layer_sizes': [10, 15, 20, (10, 20),\n",
              "                                                 (20, 40)],\n",
              "                          'max_iter': [1000, 2000],\n",
              "                          'solver': ['sgd', 'adam']}],\n",
              "             pre_dispatch='2*n_jobs', refit=True, return_train_score=False,\n",
              "             scoring='accuracy', verbose=0)"
            ]
          },
          "metadata": {
            "tags": []
          },
          "execution_count": 21
        }
      ]
    },
    {
      "cell_type": "code",
      "metadata": {
        "id": "uZ0dHb6pW-Yn",
        "colab_type": "code",
        "colab": {
          "base_uri": "https://localhost:8080/",
          "height": 51
        },
        "outputId": "d09e4d55-05b6-452a-e6cf-e6f5466b18c5"
      },
      "source": [
        "# Resutlados para Grid Search\n",
        "print(rna2.best_params_)\n",
        "print(round(rna2.best_score_,7))"
      ],
      "execution_count": 26,
      "outputs": [
        {
          "output_type": "stream",
          "text": [
            "{'activation': 'tanh', 'hidden_layer_sizes': (10, 20), 'max_iter': 1000, 'solver': 'adam'}\n",
            "0.56128\n"
          ],
          "name": "stdout"
        }
      ]
    },
    {
      "cell_type": "markdown",
      "metadata": {
        "id": "vnv18loDdyIO",
        "colab_type": "text"
      },
      "source": [
        "Com base nos resultados obtidos para Random Search e Grid Search, a combinação de parâmetros que otimiza a acurácia dos dados é:\n",
        "* Solver = Adam\n",
        "* Máximo de interações= 1000\n",
        "* Camadas ocultas = 2 camadas com 10 e 20 neurônios\n",
        "* Função de ativação = tangente hiperbólica.\n",
        "\n",
        "Para ambos os casos a configuração da rede foi a mesma, além da acurácia ser aproximadamente a mesma em anbos os casos, 0,5612361 para random search e 0,56128 para grid search. Dessa maneira, foi realizado o teste das RNA.\n",
        "\n"
      ]
    },
    {
      "cell_type": "code",
      "metadata": {
        "id": "ggVU_tbYglbz",
        "colab_type": "code",
        "colab": {}
      },
      "source": [
        "# Selecionando a melhor RNA para cada método\n",
        "rna1_ot = rna1.best_estimator_\n",
        "rna2_ot = rna2.best_estimator_"
      ],
      "execution_count": 31,
      "outputs": []
    },
    {
      "cell_type": "code",
      "metadata": {
        "id": "RChPhg3Ag7Ph",
        "colab_type": "code",
        "colab": {}
      },
      "source": [
        "# Realizando a predição no lote de teste com as RNA otimizadas\n",
        "classificao_1 = rna1_ot.predict(X_test)\n",
        "classificao_2 = rna2_ot.predict(X_test)"
      ],
      "execution_count": 32,
      "outputs": []
    },
    {
      "cell_type": "code",
      "metadata": {
        "id": "neSzpqbchcXa",
        "colab_type": "code",
        "colab": {
          "base_uri": "https://localhost:8080/",
          "height": 272
        },
        "outputId": "797157e8-63ce-4447-8e85-7ede8aeb758a"
      },
      "source": [
        "print(\"=======  Matriz de confusão resultante da RNA selecionada via Random Search ======= \")\n",
        "print(confusion_matrix(Y_test,classificao_1))\n",
        "print(\"====================  Métricas da RNA selecionada via Random Search ==================== \")\n",
        "print(classification_report(Y_test,classificao_1))"
      ],
      "execution_count": 33,
      "outputs": [
        {
          "output_type": "stream",
          "text": [
            "=======  Matriz de confusão resultante da RNA selecionada via Random Search ======= \n",
            "[[97 13 29]\n",
            " [21 19 24]\n",
            " [22 17 53]]\n",
            "====================  Métricas da RNA selecionada via Random Search ==================== \n",
            "              precision    recall  f1-score   support\n",
            "\n",
            "           1       0.69      0.70      0.70       139\n",
            "           2       0.39      0.30      0.34        64\n",
            "           3       0.50      0.58      0.54        92\n",
            "\n",
            "    accuracy                           0.57       295\n",
            "   macro avg       0.53      0.52      0.52       295\n",
            "weighted avg       0.57      0.57      0.57       295\n",
            "\n"
          ],
          "name": "stdout"
        }
      ]
    },
    {
      "cell_type": "code",
      "metadata": {
        "id": "mORuxnl4hrvY",
        "colab_type": "code",
        "colab": {
          "base_uri": "https://localhost:8080/",
          "height": 272
        },
        "outputId": "056665fc-9c51-4589-ddbf-07a83e8a174a"
      },
      "source": [
        "print(\"=======  Matriz de confusão resultante da RNA selecionada via Grid Search ======= \")\n",
        "print(confusion_matrix(Y_test,classificao_2))\n",
        "print(\"====================  Métricas da RNA selecionada via Random Grid ==================== \")\n",
        "print(classification_report(Y_test,classificao_2))"
      ],
      "execution_count": 34,
      "outputs": [
        {
          "output_type": "stream",
          "text": [
            "=======  Matriz de confusão resultante da RNA selecionada via Grid Search ======= \n",
            "[[94 15 30]\n",
            " [19 19 26]\n",
            " [21 17 54]]\n",
            "====================  Métricas da RNA selecionada via Random Grid ==================== \n",
            "              precision    recall  f1-score   support\n",
            "\n",
            "           1       0.70      0.68      0.69       139\n",
            "           2       0.37      0.30      0.33        64\n",
            "           3       0.49      0.59      0.53        92\n",
            "\n",
            "    accuracy                           0.57       295\n",
            "   macro avg       0.52      0.52      0.52       295\n",
            "weighted avg       0.56      0.57      0.56       295\n",
            "\n"
          ],
          "name": "stdout"
        }
      ]
    },
    {
      "cell_type": "markdown",
      "metadata": {
        "id": "UuLNOOpWkwew",
        "colab_type": "text"
      },
      "source": [
        "Em relação aos métodos de otimização dos parâmetros, podemos observar que:\n",
        "*   Os valores de acurácia foram aproximados novamente (0,57 em ambos os casos)\n",
        "*   Orreram diferenças entre a precisão e o recall entre os métodos testados, porem em pequena magnitude.\n",
        "\n"
      ]
    },
    {
      "cell_type": "markdown",
      "metadata": {
        "id": "XENhtVxLgN3y",
        "colab_type": "text"
      },
      "source": [
        "## Considerações finais\n"
      ]
    },
    {
      "cell_type": "markdown",
      "metadata": {
        "id": "0dFsohBcmEho",
        "colab_type": "text"
      },
      "source": [
        "Em relação ao uso de RNA para classificação no banco de dados utilizado, podemos concluir:\n",
        "*   Os resultados apresentados pela RNA são inferiores aos apresentados para RF quando não há otimização.\n",
        "*   Para os parâmetros avaliados, os dois métodos de otimização são semelhantes.\n",
        "*   Quando otimizada a RNA apresentou resultados superiores ao RF sem otimização. \n",
        "*   O número de observações desbalanceado entre as classes parece afetar a classificação por RNA assim como constatado anteriormente para RF.\n",
        "*   O método de amostragem de validação cruzada apresenta melhor desempenho em relação ao método *holdout*. \n",
        "\n",
        "Como sugestões para avançar no desenvolvimento de um melhor classificador para esses dados:\n",
        "*   Testar mais combinações de parâmetros na otimização.\n",
        "*   Testar difentes valor de K na validação cruzada.\n",
        "\n"
      ]
    }
  ]
}